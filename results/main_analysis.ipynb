{
 "cells": [
  {
   "cell_type": "markdown",
   "metadata": {},
   "source": [
    "# Main analysis\n",
    "\n",
    "*Lovisa Franzén, lovisa.franzen@scilifelab.se*\n",
    "\n",
    "Includes data processing, data visualisation, etc."
   ]
  },
  {
   "cell_type": "markdown",
   "metadata": {},
   "source": [
    "## Background\n",
    "\n",
    "Budesonide, sold by AstraZeneca under the brand names Pulmicort and Symbicort, is a glucocorticoid used for long term management of asthma and chronic obstructive pulmonary disease (COPD). The compound can be administered through inhalation or as a pill, among other forms. It was sold for the first time as medication in 1981, and has since held a large part of the consumption market.\n",
    "\n",
    "In a publication by Barrette et al. (2016)<sup>1</sup>, the authors studied the effect of budesonide treatment in primary human foetal lung explants. They prepared RNA from 3 samples of foetal lung at 23 weeks gestation before (preculture, PC) and after 4 days culture as explants with (Bud) or without (Way) budesonide (30 nM) and performed RNAseq on the 9 samples. The sequencing was performed using Illumina HiSeq 2500, and the processed data is publicly available at Gene Expression Omnibus (accession number <a href=\"https://www.ncbi.nlm.nih.gov/geo/query/acc.cgi?acc=GSE83888\">GSE83888</a>).   \n",
    "\n",
    "  \n",
    "<br>\n",
    "<span style=\"font-size:0.8em;\">\n",
    "[1] Anne Marie Barrette, Jessica K. Roberts, Cheryl Chapin, Edmund A. Egan, Mark R. Segal, Juan A. Oses-Prieto, Shreya Chand, Alma L. Burlingame, and Philip L. Ballard, \"Antiinflammatory Effects of Budesonide in Human Fetal Lung\", *American Journal of Respiratory Cell and Molecular Biology*, 2016, <a href=\"https://www.atsjournals.org/doi/10.1165/rcmb.2016-0068OC\">link to article</a>\n",
    "</span>"
   ]
  },
  {
   "cell_type": "markdown",
   "metadata": {},
   "source": [
    "## Set-up\n",
    "\n",
    "First I set everything up by importing the necessary modules, defining paths, and defining basic functions"
   ]
  },
  {
   "cell_type": "code",
   "execution_count": 17,
   "metadata": {},
   "outputs": [],
   "source": [
    "import os\n",
    "import re\n",
    "import numpy as np\n",
    "import pandas as pd\n",
    "from matplotlib import pyplot as plt\n",
    "import seaborn"
   ]
  },
  {
   "cell_type": "code",
   "execution_count": 27,
   "metadata": {},
   "outputs": [],
   "source": [
    "dir_project = os.path.realpath('..')\n",
    "dir_data = os.path.join(dir_project, 'data')\n",
    "dir_res = os.path.join(dir_project, 'results')"
   ]
  },
  {
   "cell_type": "code",
   "execution_count": 28,
   "metadata": {},
   "outputs": [],
   "source": [
    "def grep(l, p):\n",
    "    return [i for i in l if p in i]"
   ]
  },
  {
   "cell_type": "markdown",
   "metadata": {},
   "source": [
    "## Read data\n",
    "\n",
    "The data files are located in the `data/` folder. To limit the scope of this project, I've decided to exclusively focus on the 'Way' (without treatment) and 'Bud' (with budesonide treatment) groups."
   ]
  },
  {
   "cell_type": "code",
   "execution_count": 31,
   "metadata": {},
   "outputs": [
    {
     "data": {
      "text/plain": [
       "['GSM2220787_PC_2.txt',\n",
       " 'GSM2220786_PC_1.txt',\n",
       " 'GSM2220784_Bud_2.txt',\n",
       " 'GSM2220789_Way_1.txt',\n",
       " 'GSM2220790_Way_2.txt',\n",
       " 'GSM2220785_Bud_3.txt',\n",
       " 'GSM2220788_PC_3.txt',\n",
       " 'GSM2220791_Way_3.txt',\n",
       " 'GSM2220783_Bud_1.txt']"
      ]
     },
     "execution_count": 31,
     "metadata": {},
     "output_type": "execute_result"
    }
   ],
   "source": [
    "data_files = os.listdir(dir_data)\n",
    "data_files"
   ]
  },
  {
   "cell_type": "code",
   "execution_count": 39,
   "metadata": {},
   "outputs": [],
   "source": [
    "exp_way_1 = pd.read_csv( os.path.join(dir_data, grep(data_files, 'Way')[0]) , sep = '\\t')\n",
    "exp_way_2 = pd.read_csv( os.path.join(dir_data, grep(data_files, 'Way')[1]) , sep = '\\t')\n",
    "exp_way_3 = pd.read_csv( os.path.join(dir_data, grep(data_files, 'Way')[2]) , sep = '\\t')\n",
    "exp_bud_1 = pd.read_csv( os.path.join(dir_data, grep(data_files, 'Bud')[0]) , sep = '\\t')\n",
    "exp_bud_2 = pd.read_csv( os.path.join(dir_data, grep(data_files, 'Bud')[1]) , sep = '\\t')\n",
    "exp_bud_3 = pd.read_csv( os.path.join(dir_data, grep(data_files, 'Bud')[2]) , sep = '\\t')"
   ]
  },
  {
   "cell_type": "code",
   "execution_count": 45,
   "metadata": {},
   "outputs": [],
   "source": [
    "exp_way = pd.merge(exp_way_1, exp_way_2, on='Gene').merge(exp_way_3, on='Gene')\n",
    "exp_bud = pd.merge(exp_bud_1, exp_bud_2, on='Gene').merge(exp_bud_3, on='Gene')"
   ]
  },
  {
   "cell_type": "code",
   "execution_count": 46,
   "metadata": {},
   "outputs": [
    {
     "data": {
      "text/html": [
       "<div>\n",
       "<style scoped>\n",
       "    .dataframe tbody tr th:only-of-type {\n",
       "        vertical-align: middle;\n",
       "    }\n",
       "\n",
       "    .dataframe tbody tr th {\n",
       "        vertical-align: top;\n",
       "    }\n",
       "\n",
       "    .dataframe thead th {\n",
       "        text-align: right;\n",
       "    }\n",
       "</style>\n",
       "<table border=\"1\" class=\"dataframe\">\n",
       "  <thead>\n",
       "    <tr style=\"text-align: right;\">\n",
       "      <th></th>\n",
       "      <th>Gene</th>\n",
       "      <th>Way_1.cpm</th>\n",
       "      <th>Way_2.cpm</th>\n",
       "      <th>Way_3.cpm</th>\n",
       "      <th>Bud_2.cpm</th>\n",
       "      <th>Bud_3.cpm</th>\n",
       "      <th>Bud_1.cpm</th>\n",
       "    </tr>\n",
       "  </thead>\n",
       "  <tbody>\n",
       "    <tr>\n",
       "      <td>0</td>\n",
       "      <td>ENSG00000000003</td>\n",
       "      <td>127.0126</td>\n",
       "      <td>98.2498</td>\n",
       "      <td>111.1196</td>\n",
       "      <td>77.1369</td>\n",
       "      <td>78.8440</td>\n",
       "      <td>79.1299</td>\n",
       "    </tr>\n",
       "    <tr>\n",
       "      <td>1</td>\n",
       "      <td>ENSG00000000005</td>\n",
       "      <td>0.0825</td>\n",
       "      <td>0.0462</td>\n",
       "      <td>0.0000</td>\n",
       "      <td>0.0761</td>\n",
       "      <td>0.0000</td>\n",
       "      <td>0.0000</td>\n",
       "    </tr>\n",
       "    <tr>\n",
       "      <td>2</td>\n",
       "      <td>ENSG00000000419</td>\n",
       "      <td>59.1461</td>\n",
       "      <td>56.0107</td>\n",
       "      <td>61.0911</td>\n",
       "      <td>62.1508</td>\n",
       "      <td>60.0492</td>\n",
       "      <td>52.3385</td>\n",
       "    </tr>\n",
       "    <tr>\n",
       "      <td>3</td>\n",
       "      <td>ENSG00000000457</td>\n",
       "      <td>14.9875</td>\n",
       "      <td>13.2633</td>\n",
       "      <td>9.9430</td>\n",
       "      <td>13.4647</td>\n",
       "      <td>12.4601</td>\n",
       "      <td>10.5766</td>\n",
       "    </tr>\n",
       "    <tr>\n",
       "      <td>4</td>\n",
       "      <td>ENSG00000000460</td>\n",
       "      <td>11.1736</td>\n",
       "      <td>11.6458</td>\n",
       "      <td>7.2557</td>\n",
       "      <td>9.3568</td>\n",
       "      <td>7.2247</td>\n",
       "      <td>7.6602</td>\n",
       "    </tr>\n",
       "    <tr>\n",
       "      <td>...</td>\n",
       "      <td>...</td>\n",
       "      <td>...</td>\n",
       "      <td>...</td>\n",
       "      <td>...</td>\n",
       "      <td>...</td>\n",
       "      <td>...</td>\n",
       "      <td>...</td>\n",
       "    </tr>\n",
       "    <tr>\n",
       "      <td>83904</td>\n",
       "      <td>ENSG00000269881</td>\n",
       "      <td>0.0000</td>\n",
       "      <td>0.0000</td>\n",
       "      <td>0.0000</td>\n",
       "      <td>0.0000</td>\n",
       "      <td>0.0000</td>\n",
       "      <td>0.0000</td>\n",
       "    </tr>\n",
       "    <tr>\n",
       "      <td>83905</td>\n",
       "      <td>ENSG00000269882</td>\n",
       "      <td>0.0000</td>\n",
       "      <td>0.0000</td>\n",
       "      <td>0.0000</td>\n",
       "      <td>0.0000</td>\n",
       "      <td>0.0000</td>\n",
       "      <td>0.0000</td>\n",
       "    </tr>\n",
       "    <tr>\n",
       "      <td>83906</td>\n",
       "      <td>ENSG00000269883</td>\n",
       "      <td>0.0000</td>\n",
       "      <td>0.0000</td>\n",
       "      <td>0.0000</td>\n",
       "      <td>0.0000</td>\n",
       "      <td>0.0000</td>\n",
       "      <td>0.0000</td>\n",
       "    </tr>\n",
       "    <tr>\n",
       "      <td>83907</td>\n",
       "      <td>ENSG00000269884</td>\n",
       "      <td>0.0000</td>\n",
       "      <td>0.0000</td>\n",
       "      <td>0.0000</td>\n",
       "      <td>0.0000</td>\n",
       "      <td>0.0000</td>\n",
       "      <td>0.0000</td>\n",
       "    </tr>\n",
       "    <tr>\n",
       "      <td>83908</td>\n",
       "      <td>ENSG00000269885</td>\n",
       "      <td>0.0000</td>\n",
       "      <td>0.0000</td>\n",
       "      <td>0.0000</td>\n",
       "      <td>0.0000</td>\n",
       "      <td>0.0000</td>\n",
       "      <td>0.0000</td>\n",
       "    </tr>\n",
       "  </tbody>\n",
       "</table>\n",
       "<p>83909 rows × 7 columns</p>\n",
       "</div>"
      ],
      "text/plain": [
       "                  Gene  Way_1.cpm  Way_2.cpm  Way_3.cpm  Bud_2.cpm  Bud_3.cpm  \\\n",
       "0      ENSG00000000003   127.0126    98.2498   111.1196    77.1369    78.8440   \n",
       "1      ENSG00000000005     0.0825     0.0462     0.0000     0.0761     0.0000   \n",
       "2      ENSG00000000419    59.1461    56.0107    61.0911    62.1508    60.0492   \n",
       "3      ENSG00000000457    14.9875    13.2633     9.9430    13.4647    12.4601   \n",
       "4      ENSG00000000460    11.1736    11.6458     7.2557     9.3568     7.2247   \n",
       "...                ...        ...        ...        ...        ...        ...   \n",
       "83904  ENSG00000269881     0.0000     0.0000     0.0000     0.0000     0.0000   \n",
       "83905  ENSG00000269882     0.0000     0.0000     0.0000     0.0000     0.0000   \n",
       "83906  ENSG00000269883     0.0000     0.0000     0.0000     0.0000     0.0000   \n",
       "83907  ENSG00000269884     0.0000     0.0000     0.0000     0.0000     0.0000   \n",
       "83908  ENSG00000269885     0.0000     0.0000     0.0000     0.0000     0.0000   \n",
       "\n",
       "       Bud_1.cpm  \n",
       "0        79.1299  \n",
       "1         0.0000  \n",
       "2        52.3385  \n",
       "3        10.5766  \n",
       "4         7.6602  \n",
       "...          ...  \n",
       "83904     0.0000  \n",
       "83905     0.0000  \n",
       "83906     0.0000  \n",
       "83907     0.0000  \n",
       "83908     0.0000  \n",
       "\n",
       "[83909 rows x 7 columns]"
      ]
     },
     "execution_count": 46,
     "metadata": {},
     "output_type": "execute_result"
    }
   ],
   "source": [
    "exp_all = pd.merge(exp_way, exp_bud, on='Gene')\n",
    "exp_all"
   ]
  },
  {
   "cell_type": "code",
   "execution_count": null,
   "metadata": {},
   "outputs": [],
   "source": []
  },
  {
   "cell_type": "code",
   "execution_count": null,
   "metadata": {},
   "outputs": [],
   "source": []
  },
  {
   "cell_type": "code",
   "execution_count": null,
   "metadata": {},
   "outputs": [],
   "source": []
  },
  {
   "cell_type": "code",
   "execution_count": null,
   "metadata": {},
   "outputs": [],
   "source": []
  },
  {
   "cell_type": "code",
   "execution_count": null,
   "metadata": {},
   "outputs": [],
   "source": []
  }
 ],
 "metadata": {
  "kernelspec": {
   "display_name": "abi_project",
   "language": "python",
   "name": "abi_project"
  },
  "language_info": {
   "codemirror_mode": {
    "name": "ipython",
    "version": 3
   },
   "file_extension": ".py",
   "mimetype": "text/x-python",
   "name": "python",
   "nbconvert_exporter": "python",
   "pygments_lexer": "ipython3",
   "version": "3.7.4"
  }
 },
 "nbformat": 4,
 "nbformat_minor": 2
}
